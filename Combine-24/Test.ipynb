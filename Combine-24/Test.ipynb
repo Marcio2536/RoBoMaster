{
 "cells": [
  {
   "cell_type": "code",
   "execution_count": 1,
   "metadata": {},
   "outputs": [
    {
     "name": "stdout",
     "output_type": "stream",
     "text": [
      "3\n"
     ]
    }
   ],
   "source": [
    "a=\"sad\"\n",
    "print(len(a))"
   ]
  },
  {
   "cell_type": "code",
   "execution_count": 1,
   "metadata": {},
   "outputs": [
    {
     "name": "stdout",
     "output_type": "stream",
     "text": [
      "46 6 True\n",
      "46 6 False\n",
      "46 6 False\n",
      "46 6 False\n",
      "46 6 True\n",
      "46 6 True\n",
      "46 6 False\n",
      "46 6 True\n",
      "46 6 True\n"
     ]
    }
   ],
   "source": [
    "x=46\n",
    "y=6\n",
    "z=0\n",
    "select=str(x)+str(y)\n",
    "z=len(select)\n",
    "for i in range(z):\n",
    "    for j in range(z):\n",
    "        if select[i]==select[j]:\n",
    "            print(x,y,\"True\")\n",
    "        else:\n",
    "            print(x,y,\"False\")"
   ]
  },
  {
   "cell_type": "code",
   "execution_count": 8,
   "metadata": {},
   "outputs": [
    {
     "name": "stdout",
     "output_type": "stream",
     "text": [
      "1\n",
      "1\n"
     ]
    }
   ],
   "source": [
    "class x:\n",
    "    def __init__(self,a):\n",
    "        print(a)\n",
    "    def y(self):\n",
    "        print(a)\n",
    "start=x(1)\n",
    "start.y()"
   ]
  }
 ],
 "metadata": {
  "kernelspec": {
   "display_name": "Python 3.10.5 64-bit",
   "language": "python",
   "name": "python3"
  },
  "language_info": {
   "codemirror_mode": {
    "name": "ipython",
    "version": 3
   },
   "file_extension": ".py",
   "mimetype": "text/x-python",
   "name": "python",
   "nbconvert_exporter": "python",
   "pygments_lexer": "ipython3",
   "version": "3.10.5"
  },
  "orig_nbformat": 4,
  "vscode": {
   "interpreter": {
    "hash": "aee8b7b246df8f9039afb4144a1f6fd8d2ca17a180786b69acc140d282b71a49"
   }
  }
 },
 "nbformat": 4,
 "nbformat_minor": 2
}

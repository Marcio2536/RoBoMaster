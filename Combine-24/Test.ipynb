{
 "cells": [
  {
   "cell_type": "code",
   "execution_count": null,
   "metadata": {},
   "outputs": [],
   "source": [
    "a=\"sad\"\n",
    "print(len(a))"
   ]
  },
  {
   "cell_type": "code",
   "execution_count": null,
   "metadata": {},
   "outputs": [],
   "source": [
    "x=46\n",
    "y=6\n",
    "z=0\n",
    "select=str(x)+str(y)\n",
    "z=len(select)\n",
    "for i in range(z):\n",
    "    for j in range(z):\n",
    "        if select[i]==select[j]:\n",
    "            print(x,y,\"True\")\n",
    "        else:\n",
    "            print(x,y,\"False\")"
   ]
  },
  {
   "cell_type": "code",
   "execution_count": null,
   "metadata": {},
   "outputs": [],
   "source": [
    "class x:\n",
    "    def __init__(self,a):\n",
    "        print(a)\n",
    "    def y(self):\n",
    "        print(a)\n",
    "start=x(1)\n",
    "start.y()"
   ]
  },
  {
   "cell_type": "code",
   "execution_count": 4,
   "metadata": {},
   "outputs": [
    {
     "name": "stdout",
     "output_type": "stream",
     "text": [
      "False\n"
     ]
    }
   ],
   "source": [
    "def decide(x,y,v=None,w=None):\n",
    "    z=0\n",
    "    if v==None and w==None:\n",
    "        select=str(x)+str(y)\n",
    "    elif w==None:\n",
    "        select=str(x)+str(y)+str(w)    \n",
    "    else:\n",
    "        select=str(x)+str(y)+str(w)+str(w)\n",
    "    z=len(select)\n",
    "    for i in range(z):\n",
    "        for j in range(z):\n",
    "            if i==j:\n",
    "                continue\n",
    "            if select[i]==select[j]:\n",
    "                return True\n",
    "    return False\n",
    "print(decide(1023,5649))"
   ]
  }
 ],
 "metadata": {
  "kernelspec": {
   "display_name": "Python 3.10.5 64-bit",
   "language": "python",
   "name": "python3"
  },
  "language_info": {
   "codemirror_mode": {
    "name": "ipython",
    "version": 3
   },
   "file_extension": ".py",
   "mimetype": "text/x-python",
   "name": "python",
   "nbconvert_exporter": "python",
   "pygments_lexer": "ipython3",
   "version": "3.10.5"
  },
  "orig_nbformat": 4,
  "vscode": {
   "interpreter": {
    "hash": "aee8b7b246df8f9039afb4144a1f6fd8d2ca17a180786b69acc140d282b71a49"
   }
  }
 },
 "nbformat": 4,
 "nbformat_minor": 2
}
